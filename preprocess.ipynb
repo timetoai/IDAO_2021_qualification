{
 "cells": [
  {
   "cell_type": "code",
   "execution_count": 1,
   "id": "laughing-behavior",
   "metadata": {},
   "outputs": [],
   "source": [
    "import numpy as np\n",
    "import pandas as pd\n",
    "import cv2\n",
    "import os\n",
    "import tqdm\n",
    "import matplotlib.pyplot as plt\n",
    "from scipy.ndimage import grey_erosion, grey_dilation, grey_opening, grey_closing\n",
    "from skimage.feature import canny\n",
    "from PIL import Image\n",
    "%config Completer.use_jedi=False"
   ]
  },
  {
   "cell_type": "code",
   "execution_count": 2,
   "id": "exempt-newman",
   "metadata": {},
   "outputs": [
    {
     "data": {
      "text/html": [
       "<div>\n",
       "<style scoped>\n",
       "    .dataframe tbody tr th:only-of-type {\n",
       "        vertical-align: middle;\n",
       "    }\n",
       "\n",
       "    .dataframe tbody tr th {\n",
       "        vertical-align: top;\n",
       "    }\n",
       "\n",
       "    .dataframe thead th {\n",
       "        text-align: right;\n",
       "    }\n",
       "</style>\n",
       "<table border=\"1\" class=\"dataframe\">\n",
       "  <thead>\n",
       "    <tr style=\"text-align: right;\">\n",
       "      <th></th>\n",
       "      <th>filepath</th>\n",
       "      <th>type</th>\n",
       "      <th>energy</th>\n",
       "    </tr>\n",
       "  </thead>\n",
       "  <tbody>\n",
       "    <tr>\n",
       "      <th>0</th>\n",
       "      <td>train\\ER\\-0.003018522635102272__CYGNO_60_40_ER...</td>\n",
       "      <td>ER</td>\n",
       "      <td>30</td>\n",
       "    </tr>\n",
       "    <tr>\n",
       "      <th>1</th>\n",
       "      <td>train\\ER\\-0.0031084376387298107__CYGNO_60_40_E...</td>\n",
       "      <td>ER</td>\n",
       "      <td>3</td>\n",
       "    </tr>\n",
       "    <tr>\n",
       "      <th>2</th>\n",
       "      <td>train\\ER\\-0.003241758095100522__CYGNO_60_40_ER...</td>\n",
       "      <td>ER</td>\n",
       "      <td>3</td>\n",
       "    </tr>\n",
       "    <tr>\n",
       "      <th>3</th>\n",
       "      <td>train\\ER\\-0.0032767392694950104__CYGNO_60_40_E...</td>\n",
       "      <td>ER</td>\n",
       "      <td>10</td>\n",
       "    </tr>\n",
       "    <tr>\n",
       "      <th>4</th>\n",
       "      <td>train\\ER\\-0.004240238573402166__CYGNO_60_40_ER...</td>\n",
       "      <td>ER</td>\n",
       "      <td>3</td>\n",
       "    </tr>\n",
       "    <tr>\n",
       "      <th>...</th>\n",
       "      <td>...</td>\n",
       "      <td>...</td>\n",
       "      <td>...</td>\n",
       "    </tr>\n",
       "    <tr>\n",
       "      <th>13399</th>\n",
       "      <td>train\\NR\\3.1387999057769775__CYGNO_60_40_He_NR...</td>\n",
       "      <td>He</td>\n",
       "      <td>1</td>\n",
       "    </tr>\n",
       "    <tr>\n",
       "      <th>13400</th>\n",
       "      <td>train\\NR\\3.140399932861328__CYGNO_60_40_He_NR_...</td>\n",
       "      <td>He</td>\n",
       "      <td>20</td>\n",
       "    </tr>\n",
       "    <tr>\n",
       "      <th>13401</th>\n",
       "      <td>train\\NR\\3.1407999992370605__CYGNO_60_40_He_NR...</td>\n",
       "      <td>He</td>\n",
       "      <td>20</td>\n",
       "    </tr>\n",
       "    <tr>\n",
       "      <th>13402</th>\n",
       "      <td>train\\NR\\3.1412999629974365__CYGNO_60_40_He_NR...</td>\n",
       "      <td>He</td>\n",
       "      <td>6</td>\n",
       "    </tr>\n",
       "    <tr>\n",
       "      <th>13403</th>\n",
       "      <td>train\\NR\\3.141400098800659__CYGNO_60_40_He_NR_...</td>\n",
       "      <td>He</td>\n",
       "      <td>1</td>\n",
       "    </tr>\n",
       "  </tbody>\n",
       "</table>\n",
       "<p>13404 rows × 3 columns</p>\n",
       "</div>"
      ],
      "text/plain": [
       "                                                filepath type  energy\n",
       "0      train\\ER\\-0.003018522635102272__CYGNO_60_40_ER...   ER      30\n",
       "1      train\\ER\\-0.0031084376387298107__CYGNO_60_40_E...   ER       3\n",
       "2      train\\ER\\-0.003241758095100522__CYGNO_60_40_ER...   ER       3\n",
       "3      train\\ER\\-0.0032767392694950104__CYGNO_60_40_E...   ER      10\n",
       "4      train\\ER\\-0.004240238573402166__CYGNO_60_40_ER...   ER       3\n",
       "...                                                  ...  ...     ...\n",
       "13399  train\\NR\\3.1387999057769775__CYGNO_60_40_He_NR...   He       1\n",
       "13400  train\\NR\\3.140399932861328__CYGNO_60_40_He_NR_...   He      20\n",
       "13401  train\\NR\\3.1407999992370605__CYGNO_60_40_He_NR...   He      20\n",
       "13402  train\\NR\\3.1412999629974365__CYGNO_60_40_He_NR...   He       6\n",
       "13403  train\\NR\\3.141400098800659__CYGNO_60_40_He_NR_...   He       1\n",
       "\n",
       "[13404 rows x 3 columns]"
      ]
     },
     "execution_count": 2,
     "metadata": {},
     "output_type": "execute_result"
    }
   ],
   "source": [
    "annot = pd.read_csv('annotations.csv', index_col=False)\n",
    "annot"
   ]
  },
  {
   "cell_type": "code",
   "execution_count": 3,
   "id": "differential-aberdeen",
   "metadata": {},
   "outputs": [],
   "source": [
    "def preprocess_img(path):\n",
    "    orig = cv2.imread(path, 0)[188:388, 188: 388]\n",
    "    img = orig = orig * (orig > np.quantile(orig, 0.8))\n",
    "    img = grey_opening(img, size=(3,3))\n",
    "    img = grey_closing(img, size=(3,3))\n",
    "    img = orig * (img > 0)\n",
    "    if np.count_nonzero(img) == 0:\n",
    "        img = orig * (orig >= orig.max())\n",
    "        img = grey_dilation(img, size=(3,3)).astype(bool) * orig\n",
    "    else:\n",
    "        img = grey_dilation(img, size=(17,17)).astype(bool) * orig\n",
    "    return img"
   ]
  },
  {
   "cell_type": "markdown",
   "id": "intended-browse",
   "metadata": {},
   "source": [
    "10207"
   ]
  },
  {
   "cell_type": "code",
   "execution_count": 5,
   "id": "removable-island",
   "metadata": {},
   "outputs": [],
   "source": [
    "suffix = 'mod2'\n",
    "train_out = f'train_{suffix}'\n",
    "test_out = f'test_{suffix}'"
   ]
  },
  {
   "cell_type": "code",
   "execution_count": 45,
   "id": "innovative-spirituality",
   "metadata": {},
   "outputs": [
    {
     "name": "stderr",
     "output_type": "stream",
     "text": [
      "100%|███████████████████████████████████████████████████████████████████████████| 13404/13404 [01:26<00:00, 154.18it/s]\n"
     ]
    }
   ],
   "source": [
    "if not os.path.exists(train_out): os.mkdir(train_out)\n",
    "for i in tqdm.trange(len(annot)):\n",
    "    fp = annot['filepath'].iloc[i]\n",
    "    cv2.imwrite(fp.replace('train\\\\ER', train_out).replace('train\\\\NR', train_out), preprocess_img(fp))"
   ]
  },
  {
   "cell_type": "code",
   "execution_count": 7,
   "id": "placed-center",
   "metadata": {},
   "outputs": [
    {
     "name": "stderr",
     "output_type": "stream",
     "text": [
      "100%|█████████████████████████████████████████████████████████████████████████████| 1502/1502 [00:07<00:00, 189.36it/s]\n",
      "100%|████████████████████████████████████████████████████████████████████████████| 15058/15058 [02:36<00:00, 96.39it/s]\n"
     ]
    }
   ],
   "source": [
    "if not os.path.exists(test_out): os.mkdir(test_out)\n",
    "for folder in ('public_test', 'private_test_final'):\n",
    "    for fn in tqdm.tqdm(os.listdir(folder)):\n",
    "        cv2.imwrite(f'{test_out}\\\\{fn}', preprocess_img(f'{folder}\\\\{fn}'))"
   ]
  },
  {
   "cell_type": "code",
   "execution_count": null,
   "id": "ongoing-intention",
   "metadata": {},
   "outputs": [],
   "source": []
  },
  {
   "cell_type": "code",
   "execution_count": null,
   "id": "noticed-crossing",
   "metadata": {},
   "outputs": [],
   "source": []
  }
 ],
 "metadata": {
  "kernelspec": {
   "display_name": "Python 3",
   "language": "python",
   "name": "python3"
  },
  "language_info": {
   "codemirror_mode": {
    "name": "ipython",
    "version": 3
   },
   "file_extension": ".py",
   "mimetype": "text/x-python",
   "name": "python",
   "nbconvert_exporter": "python",
   "pygments_lexer": "ipython3",
   "version": "3.6.8"
  }
 },
 "nbformat": 4,
 "nbformat_minor": 5
}
