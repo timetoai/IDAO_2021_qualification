{
 "cells": [
  {
   "cell_type": "code",
   "execution_count": 1,
   "id": "legal-mouth",
   "metadata": {},
   "outputs": [],
   "source": [
    "import numpy as np\n",
    "import pandas as pd\n",
    "import tqdm\n",
    "from catboost import CatBoostClassifier, CatBoostRegressor\n",
    "from scipy import ndimage as ndi\n",
    "import cv2\n",
    "import os\n",
    "import seaborn as sns\n",
    "\n",
    "%config Completer.use_jedi = False"
   ]
  },
  {
   "cell_type": "code",
   "execution_count": 2,
   "id": "therapeutic-resolution",
   "metadata": {},
   "outputs": [
    {
     "data": {
      "text/html": [
       "<div>\n",
       "<style scoped>\n",
       "    .dataframe tbody tr th:only-of-type {\n",
       "        vertical-align: middle;\n",
       "    }\n",
       "\n",
       "    .dataframe tbody tr th {\n",
       "        vertical-align: top;\n",
       "    }\n",
       "\n",
       "    .dataframe thead th {\n",
       "        text-align: right;\n",
       "    }\n",
       "</style>\n",
       "<table border=\"1\" class=\"dataframe\">\n",
       "  <thead>\n",
       "    <tr style=\"text-align: right;\">\n",
       "      <th></th>\n",
       "      <th>filepath</th>\n",
       "      <th>type</th>\n",
       "      <th>energy</th>\n",
       "    </tr>\n",
       "  </thead>\n",
       "  <tbody>\n",
       "    <tr>\n",
       "      <th>0</th>\n",
       "      <td>train_mod2\\-0.003018522635102272__CYGNO_60_40_...</td>\n",
       "      <td>ER</td>\n",
       "      <td>30</td>\n",
       "    </tr>\n",
       "    <tr>\n",
       "      <th>1</th>\n",
       "      <td>train_mod2\\-0.0031084376387298107__CYGNO_60_40...</td>\n",
       "      <td>ER</td>\n",
       "      <td>3</td>\n",
       "    </tr>\n",
       "    <tr>\n",
       "      <th>2</th>\n",
       "      <td>train_mod2\\-0.003241758095100522__CYGNO_60_40_...</td>\n",
       "      <td>ER</td>\n",
       "      <td>3</td>\n",
       "    </tr>\n",
       "    <tr>\n",
       "      <th>3</th>\n",
       "      <td>train_mod2\\-0.0032767392694950104__CYGNO_60_40...</td>\n",
       "      <td>ER</td>\n",
       "      <td>10</td>\n",
       "    </tr>\n",
       "    <tr>\n",
       "      <th>4</th>\n",
       "      <td>train_mod2\\-0.004240238573402166__CYGNO_60_40_...</td>\n",
       "      <td>ER</td>\n",
       "      <td>3</td>\n",
       "    </tr>\n",
       "    <tr>\n",
       "      <th>...</th>\n",
       "      <td>...</td>\n",
       "      <td>...</td>\n",
       "      <td>...</td>\n",
       "    </tr>\n",
       "    <tr>\n",
       "      <th>13399</th>\n",
       "      <td>train_mod2\\3.1387999057769775__CYGNO_60_40_He_...</td>\n",
       "      <td>He</td>\n",
       "      <td>1</td>\n",
       "    </tr>\n",
       "    <tr>\n",
       "      <th>13400</th>\n",
       "      <td>train_mod2\\3.140399932861328__CYGNO_60_40_He_N...</td>\n",
       "      <td>He</td>\n",
       "      <td>20</td>\n",
       "    </tr>\n",
       "    <tr>\n",
       "      <th>13401</th>\n",
       "      <td>train_mod2\\3.1407999992370605__CYGNO_60_40_He_...</td>\n",
       "      <td>He</td>\n",
       "      <td>20</td>\n",
       "    </tr>\n",
       "    <tr>\n",
       "      <th>13402</th>\n",
       "      <td>train_mod2\\3.1412999629974365__CYGNO_60_40_He_...</td>\n",
       "      <td>He</td>\n",
       "      <td>6</td>\n",
       "    </tr>\n",
       "    <tr>\n",
       "      <th>13403</th>\n",
       "      <td>train_mod2\\3.141400098800659__CYGNO_60_40_He_N...</td>\n",
       "      <td>He</td>\n",
       "      <td>1</td>\n",
       "    </tr>\n",
       "  </tbody>\n",
       "</table>\n",
       "<p>13404 rows × 3 columns</p>\n",
       "</div>"
      ],
      "text/plain": [
       "                                                filepath type  energy\n",
       "0      train_mod2\\-0.003018522635102272__CYGNO_60_40_...   ER      30\n",
       "1      train_mod2\\-0.0031084376387298107__CYGNO_60_40...   ER       3\n",
       "2      train_mod2\\-0.003241758095100522__CYGNO_60_40_...   ER       3\n",
       "3      train_mod2\\-0.0032767392694950104__CYGNO_60_40...   ER      10\n",
       "4      train_mod2\\-0.004240238573402166__CYGNO_60_40_...   ER       3\n",
       "...                                                  ...  ...     ...\n",
       "13399  train_mod2\\3.1387999057769775__CYGNO_60_40_He_...   He       1\n",
       "13400  train_mod2\\3.140399932861328__CYGNO_60_40_He_N...   He      20\n",
       "13401  train_mod2\\3.1407999992370605__CYGNO_60_40_He_...   He      20\n",
       "13402  train_mod2\\3.1412999629974365__CYGNO_60_40_He_...   He       6\n",
       "13403  train_mod2\\3.141400098800659__CYGNO_60_40_He_N...   He       1\n",
       "\n",
       "[13404 rows x 3 columns]"
      ]
     },
     "execution_count": 2,
     "metadata": {},
     "output_type": "execute_result"
    }
   ],
   "source": [
    "train_dir = 'train_mod2'\n",
    "test_dir = 'test_mod2'\n",
    "a = pd.read_csv('annotations.csv', index_col=False)\n",
    "a.filepath = a.filepath.str.replace('train\\\\ER', train_dir, regex=False).str.replace('train\\\\NR', train_dir, regex=False)\n",
    "a"
   ]
  },
  {
   "cell_type": "code",
   "execution_count": 3,
   "id": "collective-threat",
   "metadata": {},
   "outputs": [],
   "source": [
    "def gauss(image, sigma):\n",
    "    image = ndi.gaussian_gradient_magnitude(image, sigma=sigma)\n",
    "    image = ((image >= image.max())).astype(np.uint8)\n",
    "    return image"
   ]
  },
  {
   "cell_type": "code",
   "execution_count": 4,
   "id": "permanent-character",
   "metadata": {},
   "outputs": [
    {
     "name": "stderr",
     "output_type": "stream",
     "text": [
      "100%|████████████████████████████████████████████████████████████████████████████| 13404/13404 [04:12<00:00, 53.12it/s]\n"
     ]
    }
   ],
   "source": [
    "kernel = np.ones(shape=(3,3))\n",
    "nz, avg, std = [], [], []\n",
    "gausses = {key: [] for key in (0.5, 1, 2, 3, 5, 10)}\n",
    "quants = {key: [] for key in np.arange(0.1, 1, 0.1)}\n",
    "for fp in tqdm.tqdm(a.filepath):\n",
    "    img = cv2.imread(fp, 0)\n",
    "    nz.append(np.count_nonzero(img))\n",
    "    avg.append(img[(img>0)].mean())\n",
    "    std.append(img[(img>0)].std())\n",
    "    for sigma in gausses:\n",
    "        gausses[sigma].append(np.count_nonzero(gauss(img, sigma=sigma)))\n",
    "    for q in quants:\n",
    "        quants[q].append(np.quantile(img[(img>0)], q))\n",
    "train_ds = pd.DataFrame({'nz': nz, 'avg': avg, 'std': std})\n",
    "for i, q in enumerate(quants):\n",
    "    train_ds[f'q{i}'] = quants[q]\n",
    "for i, s in enumerate(gausses):\n",
    "    train_ds[f'gausses{i}'] = gausses[s]"
   ]
  },
  {
   "cell_type": "code",
   "execution_count": 64,
   "id": "distinct-circulation",
   "metadata": {},
   "outputs": [
    {
     "data": {
      "text/plain": [
       "<AxesSubplot:xlabel='gausses0', ylabel='Count'>"
      ]
     },
     "execution_count": 64,
     "metadata": {},
     "output_type": "execute_result"
    },
    {
     "data": {
      "image/png": "[encoded data removed]",
      "text/plain": [
       "<Figure size 432x288 with 1 Axes>"
      ]
     },
     "metadata": {
      "needs_background": "light"
     },
     "output_type": "display_data"
    }
   ],
   "source": [
    "sns.histplot(x=train_ds['gausses0'], hue=a.energy, element='poly', palette='nipy_spectral')"
   ]
  },
  {
   "cell_type": "code",
   "execution_count": 5,
   "id": "patient-exemption",
   "metadata": {},
   "outputs": [],
   "source": [
    "def fit_cbc(X, y):\n",
    "    model = CatBoostClassifier(random_seed=42, verbose=0)\n",
    "    model.fit(X, y)\n",
    "    return model"
   ]
  },
  {
   "cell_type": "code",
   "execution_count": 6,
   "id": "willing-composition",
   "metadata": {},
   "outputs": [
    {
     "data": {
      "text/plain": [
       "Index(['nz', 'avg', 'std', 'q0', 'q1', 'q2', 'q3', 'q4', 'q5', 'q6', 'q7',\n",
       "       'q8', 'gausses0', 'gausses1', 'gausses2', 'gausses3', 'gausses4',\n",
       "       'gausses5'],\n",
       "      dtype='object')"
      ]
     },
     "execution_count": 6,
     "metadata": {},
     "output_type": "execute_result"
    }
   ],
   "source": [
    "cols = train_ds.columns\n",
    "cols"
   ]
  },
  {
   "cell_type": "code",
   "execution_count": 7,
   "id": "equal-lloyd",
   "metadata": {},
   "outputs": [],
   "source": [
    "model_energy = fit_cbc(train_ds[cols], a['energy'].astype(str))\n",
    "model_type = fit_cbc(train_ds[cols], a['type'].astype(str))"
   ]
  },
  {
   "cell_type": "code",
   "execution_count": 73,
   "id": "hydraulic-boston",
   "metadata": {},
   "outputs": [],
   "source": [
    "model_energy.save_model('saved_models\\\\cbc_energy2_gausses')\n",
    "model_type.save_model('saved_models\\\\cbc_type2_gausses')"
   ]
  },
  {
   "cell_type": "code",
   "execution_count": null,
   "id": "grand-reflection",
   "metadata": {},
   "outputs": [],
   "source": []
  }
 ],
 "metadata": {
  "kernelspec": {
   "display_name": "Python 3",
   "language": "python",
   "name": "python3"
  },
  "language_info": {
   "codemirror_mode": {
    "name": "ipython",
    "version": 3
   },
   "file_extension": ".py",
   "mimetype": "text/x-python",
   "name": "python",
   "nbconvert_exporter": "python",
   "pygments_lexer": "ipython3",
   "version": "3.6.8"
  }
 },
 "nbformat": 4,
 "nbformat_minor": 5
}
